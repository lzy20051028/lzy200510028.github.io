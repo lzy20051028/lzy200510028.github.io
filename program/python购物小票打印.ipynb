{
 "cells": [
  {
   "cell_type": "markdown",
   "metadata": {},
   "source": [
    "# python购物小票打印"
   ]
  },
  {
   "cell_type": "markdown",
   "metadata": {},
   "source": [
    "## 1.1 Python字符串格式化"
   ]
  },
  {
   "cell_type": "markdown",
   "metadata": {},
   "source": [
    "### 利用购物小票进行python字符串打印操作"
   ]
  },
  {
   "cell_type": "code",
   "execution_count": 1,
   "metadata": {},
   "outputs": [
    {
     "name": "stdout",
     "output_type": "stream",
     "text": [
      "###############结账单###############\n",
      "菜单                     价格\n",
      "———————————————\n",
      "苹果                  20.00\n",
      "思念水饺                10.50\n",
      "可口可乐(1.25L)               11.50\n",
      "银桥酸奶(袋装)                1.00\n",
      "大地猫锅巴                2.50\n",
      "******************************\n"
     ]
    }
   ],
   "source": [
    "#!/usr/bin/python\n",
    "#coding :utf-8\n",
    "from string import Template\n",
    "#设置宽度信息，字符串格式\n",
    "width =15\n",
    "price_width =20\n",
    "item_width=width-price_width\n",
    "header_format='%-*s%*s'\n",
    "content_format='%-*s%*.2f'\n",
    "print('#'*width+\"结账单\"+'#'*width)\n",
    "#显示表头\n",
    "print(header_format%(item_width,'菜单',price_width,'价格'))\n",
    "print(\"—\"*width)\n",
    "#内容\n",
    "print(content_format%(item_width,\"苹果\",price_width,20))\n",
    "print(content_format%(item_width,\"思念水饺\",price_width,10.5))\n",
    "print(content_format%(item_width,\"可口可乐(1.25L)\",price_width,11.5))\n",
    "print(content_format%(item_width,'银桥酸奶(袋装)',price_width,1))\n",
    "print(content_format%(item_width,'大地猫锅巴',price_width,2.5))\n",
    "#结尾\n",
    "print('**'*width)"
   ]
  },
  {
   "cell_type": "markdown",
   "metadata": {},
   "source": [
    "## 1.2金额合计及付款余额"
   ]
  },
  {
   "cell_type": "code",
   "execution_count": 56,
   "metadata": {},
   "outputs": [
    {
     "name": "stdout",
     "output_type": "stream",
     "text": [
      "=========================\n",
      "T恤:245\n",
      "运动鞋:370\n",
      "网球拍:345.5\n",
      "=========================\n",
      "T恤购买数量：2222222\n",
      "运动鞋购买数量：2222222\n",
      "网球拍购买数量：22222222\n",
      "应支付 ￥7235555384.80\n",
      "请缴费：8000000000000000000\n",
      "====================\n",
      "#####消费单#####\n",
      "购买物品    单价     个数     金额\n",
      " T恤 ￥245 2222222 544444390\n",
      " 网球鞋 ￥370 2222222 822222140\n",
      " 网球拍 ￥345.5 22222222 7677777701.0\n",
      "####################\n",
      "折扣：8折\n",
      "消费总金额：￥7235555384.80\n",
      "实际缴费：￥8000000000000000000.00\n",
      "找钱：￥7999999992764444672.00\n",
      "********************\n",
      "谢谢惠顾！\n"
     ]
    }
   ],
   "source": [
    "s1=245\n",
    "s2=370\n",
    "s3=345.5\n",
    "print(\"=\"*25)\n",
    "print(\"T恤:%s\"%s1)\n",
    "print(\"运动鞋:%s\"%s2)\n",
    "print(\"网球拍:%s\"%s3)\n",
    "print(\"=\"*25)\n",
    "tshirt=int(input(\"T恤购买数量：\"))\n",
    "sport=int(input(\"运动鞋购买数量：\"))\n",
    "tennis=int(input(\"网球拍购买数量：\"))\n",
    "s=tshirt+sport+tennis\n",
    "total=tshirt*s1+sport*s2+tennis*s3\n",
    "if s>2:\n",
    "    discount=8 \n",
    "else:\n",
    "    discount=10\n",
    "total=total*discount/10\n",
    "print(\"应支付 ￥%.2f\"%total)\n",
    "money=float(input(\"请缴费：\"))\n",
    "if money>=total:\n",
    "    change=money-total\n",
    "    print(\"=\"*20)\n",
    "    print(\"#\"*5+\"消费单\"+\"#\"*5)\n",
    "    print(\"购买物品    单价     个数     金额\")\n",
    "    print(\" T恤 ￥%s %s %s\"%(s1,tshirt,tshirt*s1))\n",
    "    print(\" 网球鞋 ￥%s %s %s\"%(s2,sport,sport*s2))\n",
    "    print(\" 网球拍 ￥%s %s %s\"%(s3,tennis,tennis*s3))\n",
    "    print(\"#\"*20)\n",
    "    print(\"折扣：%s折\"%discount)\n",
    "    print(\"消费总金额：￥%.2f\"%total)\n",
    "    print(\"实际缴费：￥%.2f\"%money)\n",
    "    print(\"找钱：￥%.2f\"%change)\n",
    "    print(\"*\"*20)\n",
    "else:\n",
    "    print(\"余额不足！\")\n",
    "print(\"谢谢惠顾！\")"
   ]
  },
  {
   "cell_type": "code",
   "execution_count": null,
   "metadata": {},
   "outputs": [],
   "source": []
  },
  {
   "cell_type": "code",
   "execution_count": null,
   "metadata": {},
   "outputs": [],
   "source": []
  }
 ],
 "metadata": {
  "kernelspec": {
   "display_name": "Python 3",
   "language": "python",
   "name": "python3"
  },
  "language_info": {
   "codemirror_mode": {
    "name": "ipython",
    "version": 3
   },
   "file_extension": ".py",
   "mimetype": "text/x-python",
   "name": "python",
   "nbconvert_exporter": "python",
   "pygments_lexer": "ipython3",
   "version": "3.7.6"
  }
 },
 "nbformat": 4,
 "nbformat_minor": 4
}
